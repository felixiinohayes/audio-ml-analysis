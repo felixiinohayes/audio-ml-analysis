{
 "cells": [
  {
   "cell_type": "code",
   "execution_count": null,
   "metadata": {},
   "outputs": [],
   "source": [
    "import seaborn\n",
    "import numpy as np\n",
    "import scipy, matplotlib.pyplot as plt, IPython.display as ipd\n",
    "import librosa, librosa.display\n",
    "from pathlib import Path\n",
    "\n",
    "kicks = [librosa.load(p)[0] for p in Path().glob('Kicks/Kick*.wav')]\n",
    "snares = [librosa.load(p)[0] for p in Path().glob('Snares/Snare*.wav')]\n",
    "\n",
    "def extract_features(signal):\n",
    "    return [\n",
    "        librosa.feature.zero_crossing_rate(signal)[0,0],\n",
    "        librosa.feature.spectral_centroid(y=signal)[0,0]\n",
    "    ]\n",
    "\n",
    "kick_features = np.array([extract_features(x) for x in kicks])\n",
    "snare_features = np.array([extract_features(x) for x in snares])\n",
    "\n",
    "snare_features.shape"
   ]
  },
  {
   "cell_type": "code",
   "execution_count": null,
   "metadata": {},
   "outputs": [],
   "source": [
    "from sklearn.preprocessing import MinMaxScaler\n",
    "\n",
    "feature_table = np.vstack((kick_features, snare_features))\n",
    "feature_table.shape\n",
    "\n",
    "scaler = MinMaxScaler(feature_range=(-1,1))\n",
    "training_features = scaler.fit_transform(feature_table)\n",
    "training_features[:,0]\n",
    "\n",
    "plt.scatter(training_features[:52,0],training_features[:52,1],c='b')\n",
    "plt.scatter(training_features[42:,0],training_features[42:,1],c='r')\n"
   ]
  },
  {
   "cell_type": "code",
   "execution_count": null,
   "metadata": {},
   "outputs": [],
   "source": [
    "x,sr = librosa.load('funkydrummer.wav')\n",
    "onset_times = librosa.onset.onset_detect(y=x, sr=sr,units='time')\n",
    "print(onset_frames) # frame numbers of estimated onsets"
   ]
  },
  {
   "cell_type": "code",
   "execution_count": null,
   "metadata": {},
   "outputs": [],
   "source": [
    "S = librosa.stft(x)\n",
    "logS = librosa.amplitude_to_db(abs(S))\n",
    "\n",
    "plt.figure(figsize=(14,5))\n",
    "librosa.display.specshow(logS,x_axis=\"time\",y_axis='log',cmap='Reds')\n",
    "plt.vlines(onset_times,0,10000,color='blue')"
   ]
  },
  {
   "cell_type": "code",
   "execution_count": null,
   "metadata": {},
   "outputs": [],
   "source": [
    "plt.figure(figsize=(14, 5))\n",
    "librosa.display.waveshow(x[:30000], sr=sr)\n",
    "plt.vlines(onset_times[:20], -0.8, 0.79, color='r', alpha=0.5)"
   ]
  },
  {
   "cell_type": "code",
   "execution_count": null,
   "metadata": {},
   "outputs": [],
   "source": [
    "clicks = librosa.clicks(times=onset_times,sr=sr,length=len(x))\n",
    "\n",
    "ipd.Audio(x+clicks,rate=sr)"
   ]
  },
  {
   "cell_type": "code",
   "execution_count": null,
   "metadata": {},
   "outputs": [],
   "source": []
  }
 ],
 "metadata": {
  "kernelspec": {
   "display_name": ".venv",
   "language": "python",
   "name": "python3"
  },
  "language_info": {
   "codemirror_mode": {
    "name": "ipython",
    "version": 3
   },
   "file_extension": ".py",
   "mimetype": "text/x-python",
   "name": "python",
   "nbconvert_exporter": "python",
   "pygments_lexer": "ipython3",
   "version": "3.12.7"
  }
 },
 "nbformat": 4,
 "nbformat_minor": 2
}
