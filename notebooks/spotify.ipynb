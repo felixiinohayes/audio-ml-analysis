{
 "cells": [
  {
   "cell_type": "code",
   "execution_count": null,
   "metadata": {},
   "outputs": [],
   "source": [
    "import base64\n",
    "import requests\n",
    "\n",
    "# Your Client ID and Client Secret\n",
    "client_id = 'c6a34d0e2f2940d099b19deb4841bc1b'\n",
    "client_secret = ''\n",
    "\n",
    "# Encode as Base64\n",
    "credentials = f\"{client_id}:{client_secret}\"\n",
    "encoded_credentials = base64.b64encode(credentials.encode()).decode()\n",
    "\n",
    "# Request access token\n",
    "token_url = 'https://accounts.spotify.com/api/token'\n",
    "headers = {\n",
    "    'Authorization': f'Basic {encoded_credentials}',\n",
    "    'Content-Type': 'application/x-www-form-urlencoded'\n",
    "}\n",
    "data = {'grant_type': 'client_credentials'}\n",
    "\n",
    "response = requests.post(token_url, headers=headers, data=data)\n",
    "access_token = response.json().get('access_token')"
   ]
  },
  {
   "cell_type": "code",
   "execution_count": 3,
   "metadata": {},
   "outputs": [
    {
     "name": "stdout",
     "output_type": "stream",
     "text": [
      "                name                      id  popularity  followers\n",
      "0       One Eyed Men  329EuuPhDjYT3tgnChtpWI          10         42\n",
      "1    Dj Krankenwagen  5lugcmzGeaXMBdrizEJK4S           9        451\n",
      "2   Cheb Aziz Staifi  2JLRf4pU6gvzCbicbQSock          11        547\n",
      "3          Aesthetix  7CfUfh5xgpw8Pj4gciQBls           4         33\n",
      "4               +TEK  0tdghWSPQoEByqbgBlAwyJ          17        576\n",
      "5              Chopo  6aGPZygnKSLg5UCBQD0eJn          11        552\n",
      "6           Number Ö  4EyVUboKgjF1ePnTWLOhaP           4        150\n",
      "7               Nani  7rlKkIi4IB5tLACIABV3iX          25       4905\n",
      "8         Nd Githuka  7fqwiukJ0n2HU6e0muFwby          20       6120\n",
      "9            Mad Fox  4H7IHUXblLFYpGuL0xOqSJ           1       1622\n",
      "10        Yakuza Mvp  20S0ZdD0VKEOqhkzCPLiKe           7         37\n",
      "11  Batista Cadillac  5w2K4e2FXj7bbPao5T0z0R          23       3280\n",
      "12           Jamirko  6S5Op08abwjGf31EvVWomN           1          3\n",
      "13              H'Mx  4pJhHCpPOUARcOT8tnIdsj          16       2362\n",
      "14     Hellen Mwangi  1jgJ0DS3SxmGKOG86z7Efo           8        284\n",
      "15       Toomas Anni  7DbQKgS3fq3yp8cNViCR0q           7        531\n",
      "16      Sunday Drive  6HVmJl0u5JjvZC6mkuyosn           3          3\n",
      "17   4Mr Frank White  7dSC3dZMaGQPFNG4ABAzL6          29       4462\n",
      "18    Мустафа Чаушев  2MS52dnWl1T5Gb7Wf1Qr7p           6        301\n",
      "19       Oto Pestner  41a2lIIHtSGmR7wGAamUqr          15       1337\n"
     ]
    }
   ],
   "source": [
    "import pandas as pd\n",
    "\n",
    "def get_artists_from_albums(access_token, popularity_threshold=30, limit=50):\n",
    "    headers = {'Authorization': f'Bearer {access_token}'}\n",
    "    search_url = 'https://api.spotify.com/v1/search'\n",
    "    params = {\n",
    "        'q': 'tag:hipster',\n",
    "        'type': 'album',\n",
    "        'limit': limit\n",
    "    }\n",
    "\n",
    "    response = requests.get(search_url, headers=headers, params=params)\n",
    "    albums = response.json().get('albums', {}).get('items', [])\n",
    "    unique_artists = {}\n",
    "    for album in albums:\n",
    "        for artist in album['artists']:\n",
    "            artist_id = artist['id']\n",
    "            artist_name = artist['name']\n",
    "            artist_url = f'https://api.spotify.com/v1/artists/{artist_id}'\n",
    "            artist_response = requests.get(artist_url, headers=headers)\n",
    "            if artist_response.status_code == 200:\n",
    "                artist_data = artist_response.json()\n",
    "                if artist_data['popularity'] < popularity_threshold:\n",
    "                    unique_artists[artist_id] = {\n",
    "                                'name': artist_name,\n",
    "                                'id': artist_id,\n",
    "                                'popularity': artist_data['popularity'],\n",
    "                                'followers': artist_data['followers']['total']\n",
    "                            }\n",
    "\n",
    "    return pd.DataFrame(unique_artists.values())\n",
    "\n",
    "num_searches = 1\n",
    "df_artists = pd.DataFrame()\n",
    "for _ in range(num_searches):\n",
    "    df_artists = pd.concat([df_artists, get_artists_from_albums(access_token=access_token)])\n",
    "print(df_artists.head(20))"
   ]
  },
  {
   "cell_type": "code",
   "execution_count": 4,
   "metadata": {},
   "outputs": [
    {
     "name": "stdout",
     "output_type": "stream",
     "text": [
      "Visit this URL to authorize: https://accounts.spotify.com/authorize?client_id=c6a34d0e2f2940d099b19deb4841bc1b&response_type=code&redirect_uri=http://localhost:8888/callback&scope=user-top-read\n"
     ]
    }
   ],
   "source": [
    "redirect_uri = \"http://localhost:8888/callback\"\n",
    "auth_url = (\n",
    "    f\"https://accounts.spotify.com/authorize?client_id={client_id}\"\n",
    "    f\"&response_type=code\"\n",
    "    f\"&redirect_uri={redirect_uri}\"\n",
    "    f\"&scope=user-top-read\"\n",
    ")\n",
    "print(\"Visit this URL to authorize:\", auth_url)\n"
   ]
  },
  {
   "cell_type": "code",
   "execution_count": 5,
   "metadata": {},
   "outputs": [],
   "source": [
    "auth_header = base64.b64encode(f\"{client_id}:{client_secret}\".encode()).decode()\n",
    "\n",
    "token_url = \"https://accounts.spotify.com/api/token\"\n",
    "token_data = {\n",
    "    \"grant_type\": \"authorization_code\",\n",
    "    \"code\": \"AQDsd5bWWLXGh2h6BC5PXoFPO1_IO9w-YVEzfw9sakKe9P-rj4zVfmHPJ7SnCLceyq5yuQxJRQ6yFOkU85JiemQuViDGnkd6doA5mtnioif5OuHVgb_wwm3KXCWnr0VSTY6UAn3LS9lCC8eqV3V5n2l5-W_AF6uLLy5Nwe9xujJ5-Xp_N7Ic14zAvuP3ZRQh2w\",\n",
    "    \"redirect_uri\": redirect_uri,\n",
    "}\n",
    "token_headers = {\n",
    "    \"Authorization\": f\"Basic {auth_header}\",\n",
    "    \"Content-Type\": \"application/x-www-form-urlencoded\",\n",
    "}\n",
    "\n",
    "response = requests.post(token_url, data=token_data, headers=token_headers)\n",
    "token_info = response.json()\n",
    "\n",
    "access_token = token_info.get(\"access_token\")"
   ]
  },
  {
   "cell_type": "code",
   "execution_count": 6,
   "metadata": {},
   "outputs": [
    {
     "ename": "KeyError",
     "evalue": "'items'",
     "output_type": "error",
     "traceback": [
      "\u001b[0;31m---------------------------------------------------------------------------\u001b[0m",
      "\u001b[0;31mKeyError\u001b[0m                                  Traceback (most recent call last)",
      "Cell \u001b[0;32mIn[6], line 14\u001b[0m\n\u001b[1;32m     11\u001b[0m top_artists \u001b[38;5;241m=\u001b[39m response\u001b[38;5;241m.\u001b[39mjson()\n\u001b[1;32m     13\u001b[0m \u001b[38;5;66;03m# print(top_artists)\u001b[39;00m\n\u001b[0;32m---> 14\u001b[0m \u001b[38;5;28;01mfor\u001b[39;00m artist \u001b[38;5;129;01min\u001b[39;00m \u001b[43mtop_artists\u001b[49m\u001b[43m[\u001b[49m\u001b[38;5;124;43m'\u001b[39;49m\u001b[38;5;124;43mitems\u001b[39;49m\u001b[38;5;124;43m'\u001b[39;49m\u001b[43m]\u001b[49m:\n\u001b[1;32m     15\u001b[0m     \u001b[38;5;28mprint\u001b[39m(\u001b[38;5;124mf\u001b[39m\u001b[38;5;124m\"\u001b[39m\u001b[38;5;124mName: \u001b[39m\u001b[38;5;132;01m{\u001b[39;00martist[\u001b[38;5;124m'\u001b[39m\u001b[38;5;124mname\u001b[39m\u001b[38;5;124m'\u001b[39m]\u001b[38;5;132;01m}\u001b[39;00m\u001b[38;5;124m, Spotify ID: \u001b[39m\u001b[38;5;132;01m{\u001b[39;00martist[\u001b[38;5;124m'\u001b[39m\u001b[38;5;124mid\u001b[39m\u001b[38;5;124m'\u001b[39m]\u001b[38;5;132;01m}\u001b[39;00m\u001b[38;5;124m\"\u001b[39m)\n",
      "\u001b[0;31mKeyError\u001b[0m: 'items'"
     ]
    }
   ],
   "source": [
    "url = \"https://api.spotify.com/v1/me/top/artists\"\n",
    "headers = {\n",
    "    \"Authorization\": f\"Bearer {access_token}\"\n",
    "}\n",
    "params = {\n",
    "    \"time_range\": \"medium_term\",\n",
    "    \"limit\": 10\n",
    "}\n",
    "\n",
    "response = requests.get(url, headers=headers, params=params)\n",
    "top_artists = response.json()\n",
    "\n",
    "# print(top_artists)\n",
    "for artist in top_artists['items']:\n",
    "    print(f\"Name: {artist['name']}, Spotify ID: {artist['id']}\")"
   ]
  },
  {
   "cell_type": "code",
   "execution_count": null,
   "metadata": {},
   "outputs": [
    {
     "name": "stdout",
     "output_type": "stream",
     "text": [
      "Mark Hollis\n",
      "Holger Czukay\n",
      "Matching Mole\n",
      "Annette Peacock\n",
      "White Noise\n",
      "Pearls Before Swine\n",
      "Slapp Happy\n",
      "Harmonia\n",
      "The Lounge Lizards\n",
      "Trees\n",
      "helen island\n",
      "Jonnine\n",
      "Lolina\n",
      "great area\n",
      "Martha Skye Murphy\n",
      "Spivak\n",
      "pigbaby\n",
      "Martyna Basta\n",
      "Bianca Scout\n",
      "Vanessa Bedoret\n",
      "great area\n",
      "Gyeongsu\n",
      "Jonnine\n",
      "Au Pairs\n",
      "The Monochrome Set\n",
      "Pere Ubu\n",
      "The Soft Boys\n",
      "Josef K\n",
      "Swell Maps\n",
      "The Boys Next Door\n",
      "Buffalo Daughter\n",
      "Sketch Show\n",
      "Polaris\n",
      "Takako Minekawa\n",
      "mmm\n"
     ]
    }
   ],
   "source": [
    "import json\n",
    "\n",
    "recommended_artists = {}\n",
    "\n",
    "for artist in top_artists['items']:\n",
    "    url = f\"https://api.spotify.com/v1/artists/{artist['id']}/related-artists\"\n",
    "    headers = {\n",
    "        \"Authorization\": f\"Bearer {access_token}\"\n",
    "    }\n",
    "\n",
    "    response = requests.get(url, headers=headers)\n",
    "    # print(json.dumps(response.json(), indent=4))\n",
    "\n",
    "    if response.status_code == 200:\n",
    "        related_artists = response.json().get('artists', [])\n",
    "        \n",
    "        popularity_threshold = 30\n",
    "\n",
    "        filtered_artists = [\n",
    "            artist for artist in related_artists if (artist['popularity'] < popularity_threshold) & (artist not in top_artists['items'])\n",
    "        ]\n",
    "\n",
    "        for artist in filtered_artists:\n",
    "            print(artist['name'])\n",
    "    else:\n",
    "        print(f\"Error: Status code 200.\")\n",
    "\n",
    "\n",
    "\n",
    "\n"
   ]
  },
  {
   "cell_type": "code",
   "execution_count": null,
   "metadata": {},
   "outputs": [],
   "source": []
  }
 ],
 "metadata": {
  "kernelspec": {
   "display_name": ".venv",
   "language": "python",
   "name": "python3"
  },
  "language_info": {
   "codemirror_mode": {
    "name": "ipython",
    "version": 3
   },
   "file_extension": ".py",
   "mimetype": "text/x-python",
   "name": "python",
   "nbconvert_exporter": "python",
   "pygments_lexer": "ipython3",
   "version": "3.12.7"
  }
 },
 "nbformat": 4,
 "nbformat_minor": 2
}
