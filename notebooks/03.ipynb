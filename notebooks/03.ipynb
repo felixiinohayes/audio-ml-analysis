{
 "cells": [
  {
   "cell_type": "code",
   "execution_count": null,
   "metadata": {},
   "outputs": [],
   "source": [
    "import numpy as np\n",
    "import matplotlib.pyplot as plt\n",
    "import librosa as lr\n",
    "from sklearn.preprocessing import MinMaxScaler\n",
    "from pathlib import Path\n",
    "from scipy.ndimage import uniform_filter1d\n",
    "import IPython.display as ipd\n",
    "\n",
    "# Import samples\n",
    "kick_samples = [lr.load(p)[0] for p in Path().glob('../data/Kicks/*.wav')]\n",
    "sr = [lr.load(p)[1] for p in Path().glob('../data/Kicks/*.wav')]\n",
    "\n",
    "def extract_features(signal,sr):\n",
    "    return [\n",
    "        # np.mean(lr.feature.zero_crossing_rate(signal)[0]),\n",
    "        lr.feature.spectral_centroid(y=signal)[0,0],\n",
    "        # lr.feature.spectral_bandwidth(y=signal)[0,0]\n",
    "        # lr.feature.spectral_contrast(y=signal)[0,0],\n",
    "        # lr.feature.spectral_flatness(y=signal)[0,0]\n",
    "        # attack_time(signal),\n",
    "        decay_time(signal)\n",
    "    ]\n",
    "\n",
    "def attack_time(signal):\n",
    "    rms = lr.feature.rms(y=signal, frame_length=856, hop_length=40)\n",
    "    times = lr.frames_to_time(np.arange(len(rms[0])), hop_length=40)\n",
    "    rms = uniform_filter1d(rms, size=5)\n",
    "    peak_index = np.argmax(rms[0][:1000])\n",
    "    return times[peak_index]\n",
    "    \n",
    "\n",
    "def decay_time(signal):\n",
    "    rms = lr.feature.rms(y=signal, frame_length=856, hop_length=40)\n",
    "    times = lr.frames_to_time(np.arange(len(rms[0])), hop_length=40)\n",
    "    rms = uniform_filter1d(rms, size=5)\n",
    "    peak_index = np.argmax(rms)\n",
    "    decay_threshold = rms[0][peak_index] * 0.1\n",
    "    decay_index = peak_index + np.argmax(rms[0][peak_index:] < decay_threshold)\n",
    "    decay_time = times[decay_index] - times[peak_index]\n",
    "    return decay_time\n",
    "\n",
    "plt.figure(figsize=(5,14))\n",
    "\n",
    "kick_features = np.array([extract_features(x,sr) for x in kick_samples])\n",
    "\n",
    "scaler = MinMaxScaler((0,1))\n",
    "scaled_features = scaler.fit_transform(kick_features[:,:])\n",
    "\n",
    "# weights = np.array([1,0.2,0.8])\n",
    "weighted_features = scaled_features * 1"
   ]
  },
  {
   "cell_type": "code",
   "execution_count": null,
   "metadata": {},
   "outputs": [],
   "source": [
    "from sklearn.cluster import KMeans\n",
    "import seaborn as sns\n",
    "\n",
    "# Apply K-means clustering\n",
    "n_clusters = 2\n",
    "kmeans = KMeans(n_clusters=n_clusters, random_state=42)\n",
    "labels = kmeans.fit_predict(scaled_features)\n",
    "\n",
    "plt.figure(figsize=(10, 6))\n",
    "sns.scatterplot(x=scaled_features[:, 0], y=scaled_features[:, 1], hue=labels, palette='viridis', s=100)\n",
    "plt.xlabel('Feature 1 (e.g., Zero Crossing Rate)')\n",
    "plt.ylabel('Feature 2 (e.g., Spectral Centroid)')\n",
    "plt.title('K-means Clustering of Kick Samples')\n",
    "plt.show()"
   ]
  },
  {
   "cell_type": "code",
   "execution_count": null,
   "metadata": {},
   "outputs": [],
   "source": [
    "import numpy as np\n",
    "from sklearn.metrics import pairwise_distances\n",
    "\n",
    "selected_sample_index = 7\n",
    "\n",
    "# Calculate similarity within the cluster\n",
    "similarity_scores = pairwise_distances(weighted_features)\n",
    "sorted_indices = np.argsort(similarity_scores[selected_sample_index])  # Sort by highest similarity\n",
    "\n",
    "sample_choices = [23,24,42,29,35]\n",
    "# sample_choices[0]\n",
    "sorted_indices"
   ]
  },
  {
   "cell_type": "code",
   "execution_count": null,
   "metadata": {},
   "outputs": [],
   "source": [
    "sample = kick_samples[116]\n",
    "ipd.Audio(sample,rate=sr[0])"
   ]
  },
  {
   "cell_type": "code",
   "execution_count": null,
   "metadata": {},
   "outputs": [],
   "source": [
    "plt.figure(figsize=(14,5))\n",
    "lr.display.waveshow(sample,sr=sr[0])"
   ]
  },
  {
   "cell_type": "code",
   "execution_count": null,
   "metadata": {},
   "outputs": [],
   "source": [
    "plt.figure(figsize=(14,5))\n",
    "rms = lr.feature.rms(y=sample, frame_length=856, hop_length=30)\n",
    "rms = uniform_filter1d(rms, size=20)\n",
    "times = lr.frames_to_time(np.arange(len(rms[0])),sr=sr[0],hop_length=48)\n",
    "plt.plot(times,rms[0])\n",
    "plt.xlabel('Time (s)')\n",
    "plt.ylabel('RMS Energy')\n",
    "plt.title('RMS Energy Envelope')\n",
    "plt.legend()\n",
    "plt.show()\n"
   ]
  },
  {
   "cell_type": "code",
   "execution_count": null,
   "metadata": {},
   "outputs": [],
   "source": []
  },
  {
   "cell_type": "code",
   "execution_count": null,
   "metadata": {},
   "outputs": [],
   "source": []
  }
 ],
 "metadata": {
  "kernelspec": {
   "display_name": ".venv",
   "language": "python",
   "name": "python3"
  },
  "language_info": {
   "codemirror_mode": {
    "name": "ipython",
    "version": 3
   },
   "file_extension": ".py",
   "mimetype": "text/x-python",
   "name": "python",
   "nbconvert_exporter": "python",
   "pygments_lexer": "ipython3",
   "version": "3.12.7"
  }
 },
 "nbformat": 4,
 "nbformat_minor": 2
}
