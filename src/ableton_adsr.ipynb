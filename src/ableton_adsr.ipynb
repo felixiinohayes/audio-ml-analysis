{
 "cells": [
  {
   "cell_type": "code",
   "execution_count": 61,
   "metadata": {},
   "outputs": [
    {
     "data": {
      "text/plain": [
       "<librosa.display.AdaptiveWaveplot at 0x13c9bc980>"
      ]
     },
     "execution_count": 61,
     "metadata": {},
     "output_type": "execute_result"
    },
    {
     "data": {
      "image/png": "[encoded data removed]",
      "text/plain": [
       "<Figure size 640x480 with 1 Axes>"
      ]
     },
     "metadata": {},
     "output_type": "display_data"
    }
   ],
   "source": [
    "import numpy as np\n",
    "import matplotlib.pyplot as plt\n",
    "import librosa as lr\n",
    "from pathlib import Path\n",
    "from scipy.ndimage import uniform_filter1d\n",
    "import IPython.display as ipd\n",
    "\n",
    "# Import samples\n",
    "samples = [lr.load(p)[0] for p in Path().glob('../data/Ableton/*.wav')]\n",
    "sr = [lr.load(p)[1] for p in Path().glob('../data/Ableton/*.wav')]\n",
    "\n",
    "lr.display.waveshow(samples[0])"
   ]
  },
  {
   "cell_type": "code",
   "execution_count": 60,
   "metadata": {},
   "outputs": [
    {
     "name": "stdout",
     "output_type": "stream",
     "text": [
      "31\n",
      "0\n",
      "130\n",
      "0\n",
      "0\n",
      "90\n",
      "0\n",
      "1\n",
      "0\n",
      "232\n",
      "0\n",
      "0\n",
      "0\n",
      "0\n",
      "0\n",
      "0\n"
     ]
    },
    {
     "ename": "IndexError",
     "evalue": "index 0 is out of bounds for axis 0 with size 0",
     "output_type": "error",
     "traceback": [
      "\u001b[0;31m---------------------------------------------------------------------------\u001b[0m",
      "\u001b[0;31mIndexError\u001b[0m                                Traceback (most recent call last)",
      "Cell \u001b[0;32mIn[60], line 12\u001b[0m\n\u001b[1;32m      9\u001b[0m \u001b[38;5;66;03m# print(rms_diff)\u001b[39;00m\n\u001b[1;32m     10\u001b[0m \u001b[38;5;66;03m# Set a threshold for the derivative to detect a sharp rise (attack)\u001b[39;00m\n\u001b[1;32m     11\u001b[0m attack_threshold \u001b[38;5;241m=\u001b[39m \u001b[38;5;241m0.002\u001b[39m\u001b[38;5;66;03m# Adjust based on your sound\u001b[39;00m\n\u001b[0;32m---> 12\u001b[0m attack_start \u001b[38;5;241m=\u001b[39m \u001b[43mnp\u001b[49m\u001b[38;5;241;43m.\u001b[39;49m\u001b[43mwhere\u001b[49m\u001b[43m(\u001b[49m\u001b[43mrms_diff\u001b[49m\u001b[43m \u001b[49m\u001b[38;5;241;43m>\u001b[39;49m\u001b[43m \u001b[49m\u001b[43mattack_threshold\u001b[49m\u001b[43m)\u001b[49m\u001b[43m[\u001b[49m\u001b[38;5;241;43m0\u001b[39;49m\u001b[43m]\u001b[49m\u001b[43m[\u001b[49m\u001b[38;5;241;43m0\u001b[39;49m\u001b[43m]\u001b[49m  \u001b[38;5;66;03m# First large rise\u001b[39;00m\n\u001b[1;32m     13\u001b[0m attack_time \u001b[38;5;241m=\u001b[39m times[attack_start]\n\u001b[1;32m     14\u001b[0m \u001b[38;5;28mprint\u001b[39m(attack_start)\n",
      "\u001b[0;31mIndexError\u001b[0m: index 0 is out of bounds for axis 0 with size 0"
     ]
    }
   ],
   "source": [
    "hop_length = 100  # Number of samples between each frame\n",
    "frame_length = 500  # Frame size in samples\n",
    "for sample in samples:\n",
    "    rms = lr.feature.rms(y=sample, frame_length=frame_length, hop_length=hop_length)[0]\n",
    "\n",
    "    times = lr.times_like(rms, sr=sr[0], hop_length=hop_length)\n",
    "\n",
    "    rms_diff = np.diff(rms)\n",
    "    # print(rms_diff)\n",
    "    # Set a threshold for the derivative to detect a sharp rise (attack)\n",
    "    attack_threshold = 0.002# Adjust based on your sound\n",
    "    attack_start = np.where(rms_diff > attack_threshold)[0][0]  # First large rise\n",
    "    attack_time = times[attack_start]\n",
    "    print(attack_start)"
   ]
  }
 ],
 "metadata": {
  "kernelspec": {
   "display_name": ".venv",
   "language": "python",
   "name": "python3"
  },
  "language_info": {
   "codemirror_mode": {
    "name": "ipython",
    "version": 3
   },
   "file_extension": ".py",
   "mimetype": "text/x-python",
   "name": "python",
   "nbconvert_exporter": "python",
   "pygments_lexer": "ipython3",
   "version": "3.12.7"
  }
 },
 "nbformat": 4,
 "nbformat_minor": 2
}
